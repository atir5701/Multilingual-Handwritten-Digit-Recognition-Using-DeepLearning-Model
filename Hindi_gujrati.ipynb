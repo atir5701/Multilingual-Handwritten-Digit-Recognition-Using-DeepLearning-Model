{
 "cells": [
  {
   "cell_type": "code",
   "execution_count": 1,
   "metadata": {},
   "outputs": [],
   "source": [
    "import pandas as pd\n",
    "import numpy as np\n",
    "import os\n",
    "import tensorflow as tf\n",
    "import cv2\n",
    "from matplotlib import pyplot as plt"
   ]
  },
  {
   "cell_type": "code",
   "execution_count": 2,
   "metadata": {},
   "outputs": [],
   "source": [
    "gpus = tf.config.list_physical_devices('GPU')\n",
    "for gpu in gpus:\n",
    "    tf.config.experimental.set_memory_growth(gpu, True)"
   ]
  },
  {
   "cell_type": "code",
   "execution_count": 3,
   "metadata": {},
   "outputs": [
    {
     "name": "stdout",
     "output_type": "stream",
     "text": [
      "Found 40448 files belonging to 20 classes.\n"
     ]
    },
    {
     "data": {
      "text/plain": [
       "<BatchDataset element_spec=(TensorSpec(shape=(None, 32, 32, 3), dtype=tf.float32, name=None), TensorSpec(shape=(None, 20), dtype=tf.float32, name=None))>"
      ]
     },
     "execution_count": 3,
     "metadata": {},
     "output_type": "execute_result"
    }
   ],
   "source": [
    "img_folder = r'E:\\Sem-6\\Digit_Recognition_Project\\HG Combined'\n",
    "data = tf.keras.utils.image_dataset_from_directory(img_folder, image_size=(32, 32), label_mode='categorical')\n",
    "data"
   ]
  },
  {
   "cell_type": "code",
   "execution_count": 4,
   "metadata": {},
   "outputs": [
    {
     "data": {
      "text/plain": [
       "2"
      ]
     },
     "execution_count": 4,
     "metadata": {},
     "output_type": "execute_result"
    }
   ],
   "source": [
    "data_iterator = data.as_numpy_iterator()\n",
    "batch = data_iterator.next()\n",
    "len(batch)"
   ]
  },
  {
   "cell_type": "code",
   "execution_count": 5,
   "metadata": {},
   "outputs": [
    {
     "name": "stderr",
     "output_type": "stream",
     "text": [
      "c:\\Python310\\lib\\site-packages\\matplotlib\\text.py:1223: FutureWarning: elementwise comparison failed; returning scalar instead, but in the future will perform elementwise comparison\n",
      "  if s != self._text:\n"
     ]
    },
    {
     "data": {
      "image/png": "[encoded data removed]",
      "text/plain": [
       "<Figure size 2000x2000 with 4 Axes>"
      ]
     },
     "metadata": {},
     "output_type": "display_data"
    }
   ],
   "source": [
    "fig, ax = plt.subplots(ncols=4, figsize=(20,20))\n",
    "for idx, img in enumerate(batch[0][:4]):\n",
    "    ax[idx].imshow(img.astype(int))\n",
    "    ax[idx].title.set_text(batch[1][idx])"
   ]
  },
  {
   "cell_type": "code",
   "execution_count": 6,
   "metadata": {},
   "outputs": [
    {
     "name": "stdout",
     "output_type": "stream",
     "text": [
      "WARNING:tensorflow:From c:\\Python310\\lib\\site-packages\\tensorflow\\python\\autograph\\pyct\\static_analysis\\liveness.py:83: Analyzer.lamba_check (from tensorflow.python.autograph.pyct.static_analysis.liveness) is deprecated and will be removed after 2023-09-23.\n",
      "Instructions for updating:\n",
      "Lambda fuctions will be no more assumed to be used in the statement where they are used, or at least in the same block. https://github.com/tensorflow/tensorflow/issues/56089\n"
     ]
    }
   ],
   "source": [
    "data = data.map(lambda x,y: (x/255, y))\n",
    "\n",
    "batch = data.as_numpy_iterator().next()\n",
    "\n",
    "train_size = int(len(data)*.7)\n",
    "val_size = int(len(data)*.2)\n",
    "test_size = int(len(data)*.1)\n",
    "\n",
    "train = data.take(train_size)\n",
    "val = data.skip(train_size).take(val_size)\n",
    "test = data.skip(train_size+val_size).take(test_size)\n"
   ]
  },
  {
   "cell_type": "code",
   "execution_count": 7,
   "metadata": {},
   "outputs": [],
   "source": [
    "import keras \n",
    "from keras.models import Sequential\n",
    "from keras.layers import Conv2D, Dense, MaxPool2D, Dropout, Flatten,Input,AveragePooling2D\n",
    "from keras.callbacks import ReduceLROnPlateau\n",
    "from keras import Sequential\n"
   ]
  },
  {
   "cell_type": "code",
   "execution_count": 8,
   "metadata": {},
   "outputs": [],
   "source": [
    "num_classes = 20\n",
    "\n",
    "input1 = Input(shape=(32, 32, 3))\n",
    "\n"
   ]
  },
  {
   "cell_type": "code",
   "execution_count": 9,
   "metadata": {},
   "outputs": [],
   "source": [
    "model = Sequential()\n",
    "model.add(Conv2D(filters=6, kernel_size=(5,5),activation='tanh', input_shape=(32, 32, 3)))\n",
    "model.add(AveragePooling2D(pool_size=(2,2)))\n",
    "model.add(Conv2D(filters=16, kernel_size=(5,5), activation='tanh'))\n",
    "model.add(AveragePooling2D(pool_size=(2,2)))\n",
    "model.add(Conv2D(filters=120, kernel_size=(5,5), activation='tanh'))\n",
    "model.add(Flatten())\n",
    "model.add(Dense(84, activation='tanh'))\n",
    "model.add(Dense(20, activation='softmax'))"
   ]
  },
  {
   "cell_type": "code",
   "execution_count": 11,
   "metadata": {},
   "outputs": [
    {
     "name": "stdout",
     "output_type": "stream",
     "text": [
      "Model: \"sequential\"\n",
      "_________________________________________________________________\n",
      " Layer (type)                Output Shape              Param #   \n",
      "=================================================================\n",
      " conv2d (Conv2D)             (None, 28, 28, 6)         456       \n",
      "                                                                 \n",
      " average_pooling2d (AverageP  (None, 14, 14, 6)        0         \n",
      " ooling2D)                                                       \n",
      "                                                                 \n",
      " conv2d_1 (Conv2D)           (None, 10, 10, 16)        2416      \n",
      "                                                                 \n",
      " average_pooling2d_1 (Averag  (None, 5, 5, 16)         0         \n",
      " ePooling2D)                                                     \n",
      "                                                                 \n",
      " conv2d_2 (Conv2D)           (None, 1, 1, 120)         48120     \n",
      "                                                                 \n",
      " flatten (Flatten)           (None, 120)               0         \n",
      "                                                                 \n",
      " dense (Dense)               (None, 84)                10164     \n",
      "                                                                 \n",
      " dense_1 (Dense)             (None, 20)                1700      \n",
      "                                                                 \n",
      "=================================================================\n",
      "Total params: 62,856\n",
      "Trainable params: 62,856\n",
      "Non-trainable params: 0\n",
      "_________________________________________________________________\n"
     ]
    }
   ],
   "source": [
    "model.summary()\n",
    "reduceLROnPlateau = ReduceLROnPlateau(monitor='val_accuracy', \n",
    "                                patience=3,\n",
    "                                verbose=1, \n",
    "                                factor=0.5,\n",
    "                                min_lr=0.00001)"
   ]
  },
  {
   "cell_type": "code",
   "execution_count": 12,
   "metadata": {},
   "outputs": [
    {
     "name": "stdout",
     "output_type": "stream",
     "text": [
      "Epoch 1/5\n",
      "884/884 [==============================] - 100s 112ms/step - loss: 0.6153 - accuracy: 0.8119 - val_loss: 0.3226 - val_accuracy: 0.8926 - lr: 0.0010\n",
      "Epoch 2/5\n",
      "884/884 [==============================] - 48s 55ms/step - loss: 0.2513 - accuracy: 0.9172 - val_loss: 0.2420 - val_accuracy: 0.9118 - lr: 0.0010\n",
      "Epoch 3/5\n",
      "884/884 [==============================] - 47s 52ms/step - loss: 0.1837 - accuracy: 0.9369 - val_loss: 0.2018 - val_accuracy: 0.9315 - lr: 0.0010\n",
      "Epoch 4/5\n",
      "884/884 [==============================] - 46s 52ms/step - loss: 0.1370 - accuracy: 0.9545 - val_loss: 0.1496 - val_accuracy: 0.9503 - lr: 0.0010\n",
      "Epoch 5/5\n",
      "884/884 [==============================] - 44s 50ms/step - loss: 0.1029 - accuracy: 0.9667 - val_loss: 0.1347 - val_accuracy: 0.9565 - lr: 0.0010\n"
     ]
    }
   ],
   "source": [
    "model.compile(loss='categorical_crossentropy', optimizer='adam', metrics=['accuracy'])\n",
    "history=model.fit(train, epochs=5, validation_data=val, callbacks=[reduceLROnPlateau])"
   ]
  },
  {
   "cell_type": "code",
   "execution_count": 13,
   "metadata": {},
   "outputs": [
    {
     "name": "stdout",
     "output_type": "stream",
     "text": [
      "126/126 [==============================] - 21s 58ms/step\n"
     ]
    },
    {
     "data": {
      "text/plain": [
       "array([[4.9772702e-08, 4.3835089e-06, 1.2059730e-06, ..., 6.6749845e-07,\n",
       "        2.2737025e-08, 1.2777473e-06],\n",
       "       [1.9939296e-05, 1.6234249e-05, 2.2635904e-06, ..., 3.9054640e-08,\n",
       "        4.4656108e-08, 1.8623782e-06],\n",
       "       [9.3467534e-06, 7.0435078e-08, 3.0789553e-05, ..., 9.9983597e-01,\n",
       "        3.3817105e-06, 9.3403378e-06],\n",
       "       ...,\n",
       "       [2.1488766e-05, 8.2100232e-06, 6.2281970e-06, ..., 1.4287892e-06,\n",
       "        2.8202359e-05, 4.0808655e-07],\n",
       "       [4.3362700e-08, 5.3424162e-07, 5.8972937e-06, ..., 1.0920164e-05,\n",
       "        4.2171362e-07, 9.9987078e-01],\n",
       "       [7.9190802e-05, 2.2171432e-06, 8.2896404e-05, ..., 3.4432014e-07,\n",
       "        6.7229769e-07, 2.6666798e-05]], dtype=float32)"
      ]
     },
     "execution_count": 13,
     "metadata": {},
     "output_type": "execute_result"
    }
   ],
   "source": [
    "model.predict(test)\n",
    "\n",
    "#model.save('Hindi_Gujrati_Lenet_Model.h5')"
   ]
  }
 ],
 "metadata": {
  "kernelspec": {
   "display_name": "Python 3",
   "language": "python",
   "name": "python3"
  },
  "language_info": {
   "codemirror_mode": {
    "name": "ipython",
    "version": 3
   },
   "file_extension": ".py",
   "mimetype": "text/x-python",
   "name": "python",
   "nbconvert_exporter": "python",
   "pygments_lexer": "ipython3",
   "version": "3.10.2"
  },
  "orig_nbformat": 4
 },
 "nbformat": 4,
 "nbformat_minor": 2
}
